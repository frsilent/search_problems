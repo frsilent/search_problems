{
 "cells": [
  {
   "cell_type": "code",
   "execution_count": 1,
   "id": "1ce9b070-3bd8-48d7-affc-d1bc0b4e8e8f",
   "metadata": {},
   "outputs": [],
   "source": [
    "class SearchProblem:\n",
    "    def __init__(self, state):\n",
    "        self.state = state\n",
    "\n",
    "    def is_solution(self):\n",
    "        raise NotImplemented()",
    "\n",
    "    def get_next_states(self):\n",
    "        raise NotImplemented()",
    "\n",
    "    def __hash__(self):\n",
    "        raise NotImplemented()",
    "\n",
    "    def __repr__(self):\n",
    "        return str(self.state)\n",
    "\n",
    "    def __eq__(self, other):\n",
    "        return self.state == other.state"
   ]
  },
  {
   "cell_type": "code",
   "execution_count": 2,
   "id": "8994d359-d9a6-445d-9309-c9a828bf7508",
   "metadata": {},
   "outputs": [],
   "source": [
    "class PancakeSortingProblem(SearchProblem):\n",
    "    def is_solution(self):\n",
    "        for i in range(len(self.state) - 1):\n",
    "            if self.state[i] > self.state[i + 1]:\n",
    "                return False\n",
    "        return True\n",
    "\n",
    "    def get_next_states(self):\n",
    "        for i in range(2, len(self.state) + 1):\n",
    "            upper = self.state[:i]\n",
    "            lower = self.state[i:]\n",
    "            next_state = upper[::-1] + lower\n",
    "            yield PancakeSortingProblem(next_state)\n",
    "\n",
    "    def __hash__(self):\n",
    "        n = max(self.state)\n",
    "        return sum([x * (n + 1) ** i for i, x in enumerate(self.state)])"
   ]
  },
  {
   "cell_type": "code",
   "execution_count": 3,
   "id": "f0b6f03c-0780-442b-8ec7-158d610a27a5",
   "metadata": {},
   "outputs": [
    {
     "name": "stdout",
     "output_type": "stream",
     "text": [
      "[2, 4, 1, 3]\n",
      "[1, 2, 4, 3]\n",
      "[3, 1, 2, 4]\n"
     ]
    }
   ],
   "source": [
    "p = PancakeSortingProblem([4, 2, 1, 3])\n",
    "for next_state in p.get_next_states():\n",
    "    print(next_state)"
   ]
  },
  {
   "cell_type": "code",
   "execution_count": 4,
   "id": "9d187283-cddd-49d4-952a-48dabb99db5a",
   "metadata": {},
   "outputs": [],
   "source": [
    "class SearchProblemSolverDFS:\n",
    "    def solve(self, start_problem):\n",
    "        frontier = [start_problem]\n",
    "        self.backlinks = {start_problem: None}\n",
    "        self.solution = None\n",
    "\n",
    "        while frontier and self.solution is None:\n",
    "            current_state = frontier.pop()\n",
    "\n",
    "            if current_state.is_solution():\n",
    "                self.solution = current_state\n",
    "\n",
    "            for next_state in current_state.get_next_states():\n",
    "                if next_state not in self.backlinks:\n",
    "                    self.backlinks[next_state] = current_state\n",
    "                    frontier.append(next_state)\n",
    "\n",
    "    def print_solution(self):\n",
    "        current_state = self.solution\n",
    "        result = []\n",
    "        while current_state is not None:\n",
    "            result.append(current_state)\n",
    "            current_state = self.backlinks[current_state]\n",
    "\n",
    "        return result[::-1]"
   ]
  },
  {
   "cell_type": "code",
   "execution_count": 5,
   "id": "fabbafd9-fc01-4752-a169-4faa844dd1b4",
   "metadata": {
    "tags": []
   },
   "outputs": [],
   "source": [
    "from collections import deque\n",
    "\n",
    "\n",
    "class SearchProblemSolverBFS:\n",
    "    def solve(self, start_problem):\n",
    "        frontier = deque([start_problem])\n",
    "        self.backlinks = {start_problem: None}\n",
    "        self.solution = None\n",
    "\n",
    "        while frontier and self.solution is None:\n",
    "            current_state = frontier.popleft()\n",
    "\n",
    "            if current_state.is_solution():\n",
    "                self.solution = current_state\n",
    "\n",
    "            for next_state in current_state.get_next_states():\n",
    "                if next_state not in self.backlinks:\n",
    "                    self.backlinks[next_state] = current_state\n",
    "                    frontier.append(next_state)\n",
    "\n",
    "    def print_solution(self):\n",
    "        current_state = self.solution\n",
    "        result = []\n",
    "        while current_state is not None:\n",
    "            result.append(current_state)\n",
    "            current_state = self.backlinks[current_state]\n",
    "\n",
    "        return result[::-1]"
   ]
  },
  {
   "cell_type": "code",
   "execution_count": 6,
   "id": "f8a1bce2-e813-4436-805a-38a59a2c3b9c",
   "metadata": {},
   "outputs": [],
   "source": [
    "start_state = [4, 2, 1, 3]\n",
    "\n",
    "p = PancakeSortingProblem(start_state)"
   ]
  },
  {
   "cell_type": "code",
   "execution_count": 7,
   "id": "ae655735-f5a6-4e15-84b7-7441c652a7a1",
   "metadata": {},
   "outputs": [
    {
     "data": {
      "text/plain": [
       "[[9, 4, 2, 1, 3, 5, 7, 6, 8],\n",
       " [6, 7, 5, 3, 1, 2, 4, 9, 8],\n",
       " [7, 6, 5, 3, 1, 2, 4, 9, 8],\n",
       " [9, 4, 2, 1, 3, 5, 6, 7, 8],\n",
       " [8, 7, 6, 5, 3, 1, 2, 4, 9],\n",
       " [4, 2, 1, 3, 5, 6, 7, 8, 9],\n",
       " [3, 1, 2, 4, 5, 6, 7, 8, 9],\n",
       " [2, 1, 3, 4, 5, 6, 7, 8, 9],\n",
       " [1, 2, 3, 4, 5, 6, 7, 8, 9]]"
      ]
     },
     "execution_count": 7,
     "metadata": {},
     "output_type": "execute_result"
    }
   ],
   "source": [
    "nine_pancakes = PancakeSortingProblem([9, 4, 2, 1, 3, 5, 7, 6, 8])\n",
    "solver = SearchProblemSolverBFS()\n",
    "solver.solve(nine_pancakes)\n",
    "solver.print_solution()"
   ]
  },
  {
   "cell_type": "code",
   "execution_count": null,
   "id": "91ba1c58-d411-4beb-99e7-7715afa8da7b",
   "metadata": {},
   "outputs": [],
   "source": []
  }
 ],
 "metadata": {
  "kernelspec": {
   "display_name": "Python 3",
   "language": "python",
   "name": "python3"
  },
  "language_info": {
   "codemirror_mode": {
    "name": "ipython",
    "version": 3
   },
   "file_extension": ".py",
   "mimetype": "text/x-python",
   "name": "python",
   "nbconvert_exporter": "python",
   "pygments_lexer": "ipython3",
   "version": "3.9.9"
  }
 },
 "nbformat": 4,
 "nbformat_minor": 5
}
